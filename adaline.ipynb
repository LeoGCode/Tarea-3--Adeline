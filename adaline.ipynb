{
 "cells": [
  {
   "attachments": {},
   "cell_type": "markdown",
   "metadata": {},
   "source": [
    "# Implementación de Adaline\n",
    "\n",
    "|      Autor      | Carnet  |\n",
    "|-----------------|---------|\n",
    "| Leonel Guerrero | 1810638 |\n",
    "\n",
    "\n",
    "Implementación del modelo del aprendizaje de Adaline"
   ]
  },
  {
   "attachments": {},
   "cell_type": "markdown",
   "metadata": {},
   "source": [
    "## Configuración general del algoritmo\n",
    "\n",
    "En la siguiente celda podrá configurar la cantidad de clases, y los archivos (en formato csv) desde donde se extraerán las instancias de los vectores"
   ]
  },
  {
   "cell_type": "code",
   "execution_count": 1,
   "metadata": {},
   "outputs": [
    {
     "name": "stdout",
     "output_type": "stream",
     "text": [
      "100\n"
     ]
    }
   ],
   "source": [
    "from typing import List, Tuple\n",
    "# Archivos de datos\n",
    "files = ['data/datosT3.csv'] # 'data/datosT3.csv'; 'data/LifeSci.csv', 'data/Agri.csv'; 'data/EarthSpace.csv', 'data/MedSci.csv'\n",
    "# Número máximo de épocas\n",
    "max_number_of_epochs = 20 # 20 para la interpolación y 100 para la clasificación\n",
    "# Tasa de aprendizaje\n",
    "learning_rate = 0.001\n",
    "# Tipo de objetivo, (esto es solo para extraer desde los archivos)\n",
    "objetive = 'interpolation' # 'classification' or 'interpolation'\n",
    "\n",
    "# Conjunto de valores, de la forma [(X,d)]\n",
    "D: List[Tuple[List,float]] = []\n",
    "\n",
    "if objetive == 'classification':\n",
    "    # Construimos el vector de las instancias de todos los archivos, agregando a cada instancia el sesgo\n",
    "    for index, file in enumerate(files):\n",
    "        with open(file) as f:\n",
    "            instances = []\n",
    "            for line in f:\n",
    "                instance = [1] + [float(x) for x in line.split(',')]\n",
    "                wanted_output = index\n",
    "                # Guardamos la instancia y el vector de salida deseada (x,d)\n",
    "                instances.append((instance, wanted_output))\n",
    "\n",
    "            D += instances\n",
    "\n",
    "if objetive == 'interpolation':\n",
    "    # Construimos el vector de las instancias de todos los archivos, agregando a cada instancia el sesgo\n",
    "    with open(files[0]) as f:\n",
    "        instances = []\n",
    "        for line in f:\n",
    "            x, y = line.split(',')\n",
    "            instance = [1, float(x), float(x)**2, float(x)**3]\n",
    "            wanted_output = float(y)\n",
    "            # Guardamos la instancia y el vector de salida deseada (x,d)\n",
    "            instances.append((instance, wanted_output))\n",
    "\n",
    "        D += instances\n",
    "\n",
    "print(len(D))"
   ]
  },
  {
   "attachments": {},
   "cell_type": "markdown",
   "metadata": {},
   "source": [
    "## Funciones auxiliares\n",
    "\n",
    "Por favor ejecute la siguiente celda para cargar las funciones auxiliares que se utilizarán en el algoritmo"
   ]
  },
  {
   "cell_type": "code",
   "execution_count": 2,
   "metadata": {},
   "outputs": [],
   "source": [
    "def save_results(file: str, epochs: 'list[int]', errors: 'list[int]'):\n",
    "    \"\"\"\n",
    "    Guarda los resultados en un archivo\n",
    "    \"\"\"\n",
    "    with open(file, 'w') as f:\n",
    "        f.write('epoch,error\\n')\n",
    "        for epoch, error in zip(epochs, errors):\n",
    "            f.write(f'{epoch},{error}\\n')\n"
   ]
  },
  {
   "attachments": {},
   "cell_type": "markdown",
   "metadata": {},
   "source": [
    "# Algoritmo de Adaline"
   ]
  },
  {
   "cell_type": "code",
   "execution_count": 3,
   "metadata": {},
   "outputs": [
    {
     "name": "stdout",
     "output_type": "stream",
     "text": [
      "Época 1: Error = 31.61063439996932\n",
      "Época 2: Error = 13.48669101227048\n",
      "Época 3: Error = 11.483903514988656\n",
      "Época 4: Error = 11.210672412878278\n",
      "Época 5: Error = 11.151313773058783\n",
      "Época 6: Error = 11.131587041411171\n",
      "Época 7: Error = 11.123726514596722\n",
      "Época 8: Error = 11.120266875791602\n",
      "Época 9: Error = 11.118468076014988\n",
      "Época 10: Error = 11.1172589646651\n",
      "Época 11: Error = 11.116236762047114\n",
      "Época 12: Error = 11.115265590829372\n",
      "Época 13: Error = 11.114311048603033\n",
      "Época 14: Error = 11.113373510762717\n",
      "Época 15: Error = 11.112462418022279\n",
      "Época 16: Error = 11.111587193280489\n",
      "Época 17: Error = 11.11075465884171\n",
      "Época 18: Error = 11.109968819678922\n",
      "Época 19: Error = 11.109231375156812\n",
      "Época 20: Error = 11.108542347107294\n",
      "w = [-0.0016886281822289775, 0.13466812953453114, 0.012529392899104555, 0.39493453904941134]\n"
     ]
    }
   ],
   "source": [
    "# Inicializamos los pesos\n",
    "w = [0 for i in range(len(D[0][0]))]\n",
    "# Inicializamos el error de las épocas\n",
    "epoch_error = 0\n",
    "# Inicializamos el número de épocas\n",
    "number_of_epochs = 0\n",
    "# Inicializamos los vectores de épocas y errores para graficar\n",
    "epochs, errors = [], []\n",
    "# Iteramos hasta que el error sea 0 o hasta que se alcance el número máximo de épocas\n",
    "while True:\n",
    "    # Iteramos sobre todas las instancias\n",
    "    # Obtenemos la instancia y el vector de salida deseada\n",
    "    for x, d in D:\n",
    "        # Calculamos la salida de la neurona\n",
    "        y = sum([w[i] * x[i] for i in range(len(w))])\n",
    "        # Calculamos el error\n",
    "        error = d - y\n",
    "        # Actualizamos los pesos\n",
    "        w = [w[i] + learning_rate * error * x[i] for i in range(len(w))]\n",
    "    # Incrementamos el número de épocas\n",
    "    number_of_epochs += 1\n",
    "    # Calculamos el error de la época\n",
    "    epoch_error = sum([(d - sum([w[i] * x[i] for i in range(len(w))])) ** 2 for x, d in D])\n",
    "    print(f'Época {number_of_epochs}: Error = {epoch_error}')\n",
    "    # Guardamos los valores de la época y el error\n",
    "    epochs.append(number_of_epochs)\n",
    "    errors.append(epoch_error)\n",
    "    # Si el error es 0 o se alcanzó el número máximo de épocas, terminamos\n",
    "    if error == 0 or number_of_epochs >= max_number_of_epochs:\n",
    "        break\n",
    "\n",
    "# Guardamos los resultados en un archivo\n",
    "# save_results(f'results/{files[0].replace(\"data/\",\"\").replace(\".csv\",\"\")}-{files[1].replace(\"data/\",\"\")}', epochs, errors)\n",
    "save_results(f'results/Intp-{files[0].replace(\"data/\",\"\")}', epochs, errors)\n",
    "if objetive == 'interpolation':\n",
    "    print(f'w = {w}')"
   ]
  }
 ],
 "metadata": {
  "kernelspec": {
   "display_name": "Python 3",
   "language": "python",
   "name": "python3"
  },
  "language_info": {
   "codemirror_mode": {
    "name": "ipython",
    "version": 3
   },
   "file_extension": ".py",
   "mimetype": "text/x-python",
   "name": "python",
   "nbconvert_exporter": "python",
   "pygments_lexer": "ipython3",
   "version": "3.8.10"
  },
  "orig_nbformat": 4,
  "vscode": {
   "interpreter": {
    "hash": "916dbcbb3f70747c44a77c7bcd40155683ae19c65e1c03b4aa3499c5328201f1"
   }
  }
 },
 "nbformat": 4,
 "nbformat_minor": 2
}
